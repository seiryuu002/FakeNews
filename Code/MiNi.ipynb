{
 "cells": [
  {
   "cell_type": "code",
   "execution_count": 1,
   "source": [
    "import pandas as pd\r\n",
    "import numpy as np\r\n",
    "import matplotlib.pyplot as plt\r\n",
    "import seaborn as sns            # Not required Comment this line out \r\n",
    "import nltk                      # Not required Comment this line out\r\n",
    "import re                        # Not required Comment this line out\r\n",
    "from tensorflow.keras.preprocessing.text import Tokenizer\r\n",
    "from tensorflow.keras.preprocessing.sequence import pad_sequences\r\n",
    "from tensorflow.keras.models import Sequential\r\n",
    "from tensorflow.keras.layers import Dense, Embedding, LSTM, Conv1D, MaxPool1D\r\n",
    "from sklearn.model_selection import train_test_split\r\n",
    "from sklearn.metrics import classification_report, accuracy_score\r\n"
   ],
   "outputs": [],
   "metadata": {}
  },
  {
   "cell_type": "code",
   "execution_count": 2,
   "source": [
    "fake = pd.read_csv('F:\\\\Lecture notes\\\\Sem-5\\\\MP-III\\\\Dataset\\\\Fake.csv')\r\n",
    "real = pd.read_csv('F:\\\\Lecture notes\\\\Sem-5\\\\MP-III\\\\Dataset\\\\True.csv')"
   ],
   "outputs": [],
   "metadata": {}
  },
  {
   "cell_type": "code",
   "execution_count": 3,
   "source": [
    "unknown_publishers = []\r\n",
    "for index, row in enumerate(real.text.values):\r\n",
    "    try:\r\n",
    "        record = row.split('-', maxsplit = 1)\r\n",
    "        record[1]\r\n",
    "        assert(len(record[0])<120)\r\n",
    "    except:\r\n",
    "        unknown_publishers.append(index)"
   ],
   "outputs": [],
   "metadata": {}
  },
  {
   "cell_type": "code",
   "execution_count": 4,
   "source": [
    "real = real.drop(8970, axis = 0)"
   ],
   "outputs": [],
   "metadata": {}
  },
  {
   "cell_type": "code",
   "execution_count": 5,
   "source": [
    "publisher = []\r\n",
    "tmp_text = []\r\n",
    "\r\n",
    "for index, row in enumerate(real.text.values):\r\n",
    "    if index in unknown_publishers:\r\n",
    "        tmp_text.append(row)\r\n",
    "        publisher.append('Unknown')\r\n",
    "\r\n",
    "    else:\r\n",
    "        record = row.split('-', maxsplit = 1)\r\n",
    "        publisher.append(record[0].strip())\r\n",
    "        tmp_text.append(record[1].strip())\r\n"
   ],
   "outputs": [],
   "metadata": {}
  },
  {
   "cell_type": "code",
   "execution_count": 6,
   "source": [
    "real['publisher'] = publisher\r\n",
    "real['text'] = tmp_text"
   ],
   "outputs": [],
   "metadata": {}
  },
  {
   "cell_type": "code",
   "execution_count": 7,
   "source": [
    "empty_fake_index = [ index for index,text in enumerate (fake.text.tolist()) if str(text).strip() == \"\"]"
   ],
   "outputs": [],
   "metadata": {
    "scrolled": true
   }
  },
  {
   "cell_type": "code",
   "execution_count": 8,
   "source": [
    "real['text'] = real['title'] + \" \" + real['text']\r\n",
    "fake['text'] = fake['title'] + \" \" + fake['text']"
   ],
   "outputs": [],
   "metadata": {}
  },
  {
   "cell_type": "code",
   "execution_count": 9,
   "source": [
    "real['text'] = real['text'].apply(lambda x: str(x).lower())\r\n",
    "fake['text'] = fake['text'].apply(lambda x: str(x).lower())"
   ],
   "outputs": [],
   "metadata": {}
  },
  {
   "cell_type": "code",
   "execution_count": 10,
   "source": [
    "real['class'] = 1\r\n",
    "fake['class'] = 0"
   ],
   "outputs": [],
   "metadata": {}
  },
  {
   "cell_type": "code",
   "execution_count": 11,
   "source": [
    "real = real[['text', 'class']]\r\n",
    "fake = fake[['text', 'class']]\r\n",
    "data = real.append(fake, ignore_index=True)"
   ],
   "outputs": [],
   "metadata": {}
  },
  {
   "cell_type": "code",
   "execution_count": null,
   "source": [
    "!pip install spacy\r\n",
    "!python -m spacy download en_core_web_sm\r\n",
    "!pip install beautifulsoup4\r\n",
    "!pip install textblob\r\n",
    "!pip install git+https://github.com/laxmimerit/preprocess_kgptalkie.git --upgrade --force-reinstall"
   ],
   "outputs": [],
   "metadata": {}
  },
  {
   "cell_type": "code",
   "execution_count": 12,
   "source": [
    "import preprocess_kgptalkie as ps\r\n",
    "data['text'] = data['text'].apply(lambda x: ps.remove_special_chars(x))"
   ],
   "outputs": [],
   "metadata": {}
  },
  {
   "cell_type": "code",
   "execution_count": null,
   "source": [
    "!pip install gensim"
   ],
   "outputs": [],
   "metadata": {}
  },
  {
   "cell_type": "code",
   "execution_count": 13,
   "source": [
    "import gensim"
   ],
   "outputs": [],
   "metadata": {}
  },
  {
   "cell_type": "code",
   "execution_count": 14,
   "source": [
    "y = data['class'].values\r\n",
    "X = [d.split() for d in data['text'].tolist()]\r\n",
    "DIM = 100\r\n",
    "w2v_model = gensim.models.Word2Vec(sentences=X, window=10, min_count=1)"
   ],
   "outputs": [],
   "metadata": {}
  },
  {
   "cell_type": "code",
   "execution_count": 15,
   "source": [
    "tokenizer = Tokenizer()\n",
    "tokenizer.fit_on_texts(X)"
   ],
   "outputs": [],
   "metadata": {}
  },
  {
   "cell_type": "code",
   "execution_count": 16,
   "source": [
    "X = tokenizer.texts_to_sequences(X)"
   ],
   "outputs": [],
   "metadata": {}
  },
  {
   "cell_type": "code",
   "execution_count": 17,
   "source": [
    "plt.hist([len(x) for x in X], bins = 700)\n",
    "plt.show()"
   ],
   "outputs": [
    {
     "output_type": "display_data",
     "data": {
      "image/png": "[encoded data removed]",
      "text/plain": [
       "<Figure size 432x288 with 1 Axes>"
      ]
     },
     "metadata": {
      "needs_background": "light"
     }
    }
   ],
   "metadata": {}
  },
  {
   "cell_type": "code",
   "execution_count": 37,
   "source": [
    "nos = np.array([len(x) for x in X])\n",
    "len(nos[nos>1000])"
   ],
   "outputs": [
    {
     "output_type": "execute_result",
     "data": {
      "text/plain": [
       "1581"
      ]
     },
     "metadata": {},
     "execution_count": 37
    }
   ],
   "metadata": {}
  },
  {
   "cell_type": "code",
   "execution_count": 18,
   "source": [
    "max_len = 1000\n",
    "X = pad_sequences(X, maxlen = max_len)"
   ],
   "outputs": [],
   "metadata": {}
  },
  {
   "cell_type": "code",
   "execution_count": 19,
   "source": [
    "vocab_size = len(tokenizer.word_index) + 1\n",
    "vocab = tokenizer.word_index"
   ],
   "outputs": [],
   "metadata": {}
  },
  {
   "cell_type": "code",
   "execution_count": 20,
   "source": [
    "def get_weight_matrix(model):\n",
    "    weight_matrix = np.zeros((vocab_size, 100))\n",
    "    \n",
    "    for word, i in vocab.items():\n",
    "        weight_matrix[i] = model.wv[word]\n",
    "    \n",
    "    return weight_matrix"
   ],
   "outputs": [],
   "metadata": {}
  },
  {
   "cell_type": "code",
   "execution_count": 21,
   "source": [
    "embedding_vectors = get_weight_matrix(w2v_model)"
   ],
   "outputs": [],
   "metadata": {}
  },
  {
   "cell_type": "code",
   "execution_count": null,
   "source": [
    "embedding_vectors.shape"
   ],
   "outputs": [],
   "metadata": {}
  },
  {
   "cell_type": "code",
   "execution_count": 22,
   "source": [
    "model = Sequential()\n",
    "model.add(Embedding(vocab_size, output_dim = 100, weights = [embedding_vectors], input_length = max_len, trainable=False))\n",
    "model.add(LSTM(units=128))\n",
    "model.add(Dense(1, activation='sigmoid'))\n",
    "model.compile(optimizer='adam', loss='binary_crossentropy', metrics=['acc'])"
   ],
   "outputs": [],
   "metadata": {}
  },
  {
   "cell_type": "code",
   "execution_count": 23,
   "source": [
    "model.summary()"
   ],
   "outputs": [
    {
     "output_type": "stream",
     "name": "stdout",
     "text": [
      "Model: \"sequential\"\n",
      "_________________________________________________________________\n",
      "Layer (type)                 Output Shape              Param #   \n",
      "=================================================================\n",
      "embedding (Embedding)        (None, 1000, 100)         23187300  \n",
      "_________________________________________________________________\n",
      "lstm (LSTM)                  (None, 128)               117248    \n",
      "_________________________________________________________________\n",
      "dense (Dense)                (None, 1)                 129       \n",
      "=================================================================\n",
      "Total params: 23,304,677\n",
      "Trainable params: 117,377\n",
      "Non-trainable params: 23,187,300\n",
      "_________________________________________________________________\n"
     ]
    }
   ],
   "metadata": {
    "scrolled": true
   }
  },
  {
   "cell_type": "code",
   "execution_count": 24,
   "source": [
    "X_train, X_test, y_train, y_test = train_test_split(X, y)"
   ],
   "outputs": [],
   "metadata": {
    "scrolled": true
   }
  },
  {
   "cell_type": "code",
   "execution_count": 26,
   "source": [
    "model.fit(X_train, y_train, validation_split = 0.3, epochs=6)"
   ],
   "outputs": [
    {
     "output_type": "stream",
     "name": "stdout",
     "text": [
      "Epoch 1/6\n",
      "737/737 [==============================] - 104s 142ms/step - loss: 0.0086 - acc: 0.9973 - val_loss: 0.0352 - val_acc: 0.9876\n",
      "Epoch 2/6\n",
      "737/737 [==============================] - 119s 161ms/step - loss: 0.0071 - acc: 0.9978 - val_loss: 0.0237 - val_acc: 0.9938\n",
      "Epoch 3/6\n",
      "737/737 [==============================] - 182s 247ms/step - loss: 0.0052 - acc: 0.9986 - val_loss: 0.0223 - val_acc: 0.9947\n",
      "Epoch 4/6\n",
      "737/737 [==============================] - 125s 170ms/step - loss: 0.0046 - acc: 0.9988 - val_loss: 0.0270 - val_acc: 0.9934\n",
      "Epoch 5/6\n",
      "737/737 [==============================] - 129s 175ms/step - loss: 0.0022 - acc: 0.9996 - val_loss: 0.0269 - val_acc: 0.9937\n",
      "Epoch 6/6\n",
      "737/737 [==============================] - 116s 157ms/step - loss: 0.0053 - acc: 0.9985 - val_loss: 0.0267 - val_acc: 0.9931\n"
     ]
    },
    {
     "output_type": "execute_result",
     "data": {
      "text/plain": [
       "<tensorflow.python.keras.callbacks.History at 0x1dcea595190>"
      ]
     },
     "metadata": {},
     "execution_count": 26
    }
   ],
   "metadata": {
    "scrolled": true
   }
  },
  {
   "cell_type": "code",
   "execution_count": 27,
   "source": [
    "y_pred = (model.predict(X_test) >= 0.5).astype(int)"
   ],
   "outputs": [],
   "metadata": {}
  },
  {
   "cell_type": "code",
   "execution_count": 28,
   "source": [
    "accuracy_score(y_test, y_pred)"
   ],
   "outputs": [
    {
     "output_type": "execute_result",
     "data": {
      "text/plain": [
       "0.9942093541202672"
      ]
     },
     "metadata": {},
     "execution_count": 28
    }
   ],
   "metadata": {}
  },
  {
   "cell_type": "code",
   "execution_count": 56,
   "source": [
    "print(classification_report(y_test, y_pred))"
   ],
   "outputs": [
    {
     "output_type": "stream",
     "name": "stdout",
     "text": [
      "              precision    recall  f1-score   support\n",
      "\n",
      "           0       0.99      1.00      0.99      5921\n",
      "           1       1.00      0.99      0.99      5304\n",
      "\n",
      "    accuracy                           0.99     11225\n",
      "   macro avg       0.99      0.99      0.99     11225\n",
      "weighted avg       0.99      0.99      0.99     11225\n",
      "\n"
     ]
    }
   ],
   "metadata": {}
  },
  {
   "cell_type": "code",
   "execution_count": 38,
   "source": [
    "x = [\"\"\"India reported 8,774 new COVID-19 cases and 621 related fatalities on Saturday, pushing the overall cases tally to 3,45,72,523 and the death count to 4,68,554. Besides, 9,481 recoveries were also reported during the previous 24 hours. The recovery rate now stands at 98.34 per cent, the highest since March 2020. At little over a lakh, active cases in the country stand at 1,05,069.\n",
    "\n",
    "Meanwhile, reports of a new Covid variant, named 'Omicron' by the WHO and declared as a variant of concern, which was first detected in South Africa, has triggered concerns across the world, with several countries imposing travel bans on multiple southern African nations. \n",
    "\n",
    "The new strain has already been detected in several European countries, including UK, Germany, Italy, and Czech Republic. The variant is said to be much more infectious than the Delta variant and the \"most heavily mutated\" version of coronavirus discovered so far.\"\"\"] \n",
    "x = tokenizer.texts_to_sequences(x)\n",
    "x = pad_sequences(x, maxlen = max_len)"
   ],
   "outputs": [],
   "metadata": {}
  },
  {
   "cell_type": "code",
   "execution_count": 39,
   "source": [
    "news = (model.predict(x)>=0.5).astype(int)"
   ],
   "outputs": [],
   "metadata": {}
  },
  {
   "cell_type": "code",
   "execution_count": 40,
   "source": [
    "if news == 1:\n",
    "    print(\"It's a Real News\")\n",
    "else:\n",
    "    print(\"It's a Fake News\")"
   ],
   "outputs": [
    {
     "output_type": "stream",
     "name": "stdout",
     "text": [
      "It's a Real News\n"
     ]
    }
   ],
   "metadata": {}
  },
  {
   "cell_type": "code",
   "execution_count": null,
   "source": [],
   "outputs": [],
   "metadata": {}
  },
  {
   "cell_type": "code",
   "execution_count": null,
   "source": [],
   "outputs": [],
   "metadata": {}
  }
 ],
 "metadata": {
  "kernelspec": {
   "display_name": "Python 3",
   "language": "python",
   "name": "python3"
  },
  "language_info": {
   "codemirror_mode": {
    "name": "ipython",
    "version": 3
   },
   "file_extension": ".py",
   "mimetype": "text/x-python",
   "name": "python",
   "nbconvert_exporter": "python",
   "pygments_lexer": "ipython3",
   "version": "3.8.5"
  }
 },
 "nbformat": 4,
 "nbformat_minor": 4
}